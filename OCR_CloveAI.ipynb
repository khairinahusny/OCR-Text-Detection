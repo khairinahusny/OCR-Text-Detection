{
  "nbformat": 4,
  "nbformat_minor": 0,
  "metadata": {
    "colab": {
      "name": "OCR_CloveAI.ipynb",
      "provenance": [],
      "collapsed_sections": []
    },
    "kernelspec": {
      "name": "python3",
      "display_name": "Python 3"
    },
    "accelerator": "GPU"
  },
  "cells": [
    {
      "cell_type": "markdown",
      "metadata": {
        "id": "qAqcw3vprko7"
      },
      "source": [
        "Clone repo"
      ]
    },
    {
      "cell_type": "code",
      "metadata": {
        "colab": {
          "base_uri": "https://localhost:8080/"
        },
        "id": "AJivAb7Vhp8L",
        "outputId": "1f242e99-ad39-42e5-b377-3b0ce455dc86"
      },
      "source": [
        "!git clone https://github.com/clovaai/CRAFT-pytorch"
      ],
      "execution_count": null,
      "outputs": [
        {
          "output_type": "stream",
          "text": [
            "fatal: destination path 'CRAFT-pytorch' already exists and is not an empty directory.\n"
          ],
          "name": "stdout"
        }
      ]
    },
    {
      "cell_type": "markdown",
      "metadata": {
        "id": "mI0-kn_yrb9M"
      },
      "source": [
        "Check current CUDA Driver Version installed (Need this info to install pytorch)"
      ]
    },
    {
      "cell_type": "code",
      "metadata": {
        "colab": {
          "base_uri": "https://localhost:8080/"
        },
        "id": "0Xbo1V50ipq9",
        "outputId": "fe663b90-2023-44e1-e1dd-2a09067b1d66"
      },
      "source": [
        "!nvcc --version"
      ],
      "execution_count": null,
      "outputs": [
        {
          "output_type": "stream",
          "text": [
            "nvcc: NVIDIA (R) Cuda compiler driver\n",
            "Copyright (c) 2005-2019 NVIDIA Corporation\n",
            "Built on Sun_Jul_28_19:07:16_PDT_2019\n",
            "Cuda compilation tools, release 10.1, V10.1.243\n"
          ],
          "name": "stdout"
        }
      ]
    },
    {
      "cell_type": "markdown",
      "metadata": {
        "id": "UlX3ZaUKrAgc"
      },
      "source": [
        "Install required libraries"
      ]
    },
    {
      "cell_type": "code",
      "metadata": {
        "colab": {
          "base_uri": "https://localhost:8080/"
        },
        "id": "cCSpDMcpiyU9",
        "outputId": "37853b14-5a5d-428f-b29e-8fdd9eff4802"
      },
      "source": [
        "!pip install torch==1.7.1+cu101 torchvision==0.8.2+cu101 torchaudio==0.7.2 opencv-contrib-python scikit-image scipy -f https://download.pytorch.org/whl/torch_stable.html"
      ],
      "execution_count": null,
      "outputs": [
        {
          "output_type": "stream",
          "text": [
            "Looking in links: https://download.pytorch.org/whl/torch_stable.html\n",
            "Collecting torch==1.7.1+cu101\n",
            "\u001b[?25l  Downloading https://download.pytorch.org/whl/cu101/torch-1.7.1%2Bcu101-cp36-cp36m-linux_x86_64.whl (735.4MB)\n",
            "\u001b[K     |████████████████████████████████| 735.4MB 25kB/s \n",
            "\u001b[?25hCollecting torchvision==0.8.2+cu101\n",
            "\u001b[?25l  Downloading https://download.pytorch.org/whl/cu101/torchvision-0.8.2%2Bcu101-cp36-cp36m-linux_x86_64.whl (12.8MB)\n",
            "\u001b[K     |████████████████████████████████| 12.8MB 17.9MB/s \n",
            "\u001b[?25hCollecting torchaudio==0.7.2\n",
            "\u001b[?25l  Downloading https://files.pythonhosted.org/packages/2a/f9/618434cf4e46dc975871e1516f5499abef6564ab4366f9b2321ee536be14/torchaudio-0.7.2-cp36-cp36m-manylinux1_x86_64.whl (7.6MB)\n",
            "\u001b[K     |████████████████████████████████| 7.6MB 9.2MB/s \n",
            "\u001b[?25hRequirement already satisfied: opencv-contrib-python in /usr/local/lib/python3.6/dist-packages (4.1.2.30)\n",
            "Requirement already satisfied: scikit-image in /usr/local/lib/python3.6/dist-packages (0.16.2)\n",
            "Requirement already satisfied: scipy in /usr/local/lib/python3.6/dist-packages (1.4.1)\n",
            "Requirement already satisfied: typing-extensions in /usr/local/lib/python3.6/dist-packages (from torch==1.7.1+cu101) (3.7.4.3)\n",
            "Requirement already satisfied: numpy in /usr/local/lib/python3.6/dist-packages (from torch==1.7.1+cu101) (1.19.4)\n",
            "Requirement already satisfied: dataclasses; python_version < \"3.7\" in /usr/local/lib/python3.6/dist-packages (from torch==1.7.1+cu101) (0.8)\n",
            "Requirement already satisfied: pillow>=4.1.1 in /usr/local/lib/python3.6/dist-packages (from torchvision==0.8.2+cu101) (7.0.0)\n",
            "Requirement already satisfied: networkx>=2.0 in /usr/local/lib/python3.6/dist-packages (from scikit-image) (2.5)\n",
            "Requirement already satisfied: imageio>=2.3.0 in /usr/local/lib/python3.6/dist-packages (from scikit-image) (2.4.1)\n",
            "Requirement already satisfied: matplotlib!=3.0.0,>=2.0.0 in /usr/local/lib/python3.6/dist-packages (from scikit-image) (3.2.2)\n",
            "Requirement already satisfied: PyWavelets>=0.4.0 in /usr/local/lib/python3.6/dist-packages (from scikit-image) (1.1.1)\n",
            "Requirement already satisfied: decorator>=4.3.0 in /usr/local/lib/python3.6/dist-packages (from networkx>=2.0->scikit-image) (4.4.2)\n",
            "Requirement already satisfied: cycler>=0.10 in /usr/local/lib/python3.6/dist-packages (from matplotlib!=3.0.0,>=2.0.0->scikit-image) (0.10.0)\n",
            "Requirement already satisfied: kiwisolver>=1.0.1 in /usr/local/lib/python3.6/dist-packages (from matplotlib!=3.0.0,>=2.0.0->scikit-image) (1.3.1)\n",
            "Requirement already satisfied: python-dateutil>=2.1 in /usr/local/lib/python3.6/dist-packages (from matplotlib!=3.0.0,>=2.0.0->scikit-image) (2.8.1)\n",
            "Requirement already satisfied: pyparsing!=2.0.4,!=2.1.2,!=2.1.6,>=2.0.1 in /usr/local/lib/python3.6/dist-packages (from matplotlib!=3.0.0,>=2.0.0->scikit-image) (2.4.7)\n",
            "Requirement already satisfied: six in /usr/local/lib/python3.6/dist-packages (from cycler>=0.10->matplotlib!=3.0.0,>=2.0.0->scikit-image) (1.15.0)\n",
            "Installing collected packages: torch, torchvision, torchaudio\n",
            "  Found existing installation: torch 1.7.0+cu101\n",
            "    Uninstalling torch-1.7.0+cu101:\n",
            "      Successfully uninstalled torch-1.7.0+cu101\n",
            "  Found existing installation: torchvision 0.8.1+cu101\n",
            "    Uninstalling torchvision-0.8.1+cu101:\n",
            "      Successfully uninstalled torchvision-0.8.1+cu101\n",
            "Successfully installed torch-1.7.1+cu101 torchaudio-0.7.2 torchvision-0.8.2+cu101\n"
          ],
          "name": "stdout"
        }
      ]
    },
    {
      "cell_type": "markdown",
      "metadata": {
        "id": "JPn_vutIq4KM"
      },
      "source": [
        "Prepare images to test. Create folder and download images from internet using wget and store it into folder image_examples"
      ]
    },
    {
      "cell_type": "code",
      "metadata": {
        "colab": {
          "base_uri": "https://localhost:8080/"
        },
        "id": "wypqgw6rmbQX",
        "outputId": "d3f7dc1c-e12f-4f77-f7d6-afca32ac4321"
      },
      "source": [
        "!mkdir image_example\r\n",
        "!wget https://pd-parkertowers-cd.parkertowers.com/-/media/ba-to-be/banana-republic-store-austin-street-1000x666.jpg -P image_example/\r\n",
        "!wget https://blog-content-2.thestorefront.com/mag/wp-content/uploads/2016/07/The-Street-Store-1-810x540.jpg -P image_example/"
      ],
      "execution_count": null,
      "outputs": [
        {
          "output_type": "stream",
          "text": [
            "--2020-12-22 02:40:36--  https://pd-parkertowers-cd.parkertowers.com/-/media/ba-to-be/banana-republic-store-austin-street-1000x666.jpg\n",
            "Resolving pd-parkertowers-cd.parkertowers.com (pd-parkertowers-cd.parkertowers.com)... 40.114.68.21\n",
            "Connecting to pd-parkertowers-cd.parkertowers.com (pd-parkertowers-cd.parkertowers.com)|40.114.68.21|:443... connected.\n",
            "HTTP request sent, awaiting response... 200 OK\n",
            "Length: 161636 (158K) [image/jpeg]\n",
            "Saving to: ‘image_example/banana-republic-store-austin-street-1000x666.jpg’\n",
            "\n",
            "\r          banana-re   0%[                    ]       0  --.-KB/s               \rbanana-republic-sto 100%[===================>] 157.85K  --.-KB/s    in 0.006s  \n",
            "\n",
            "2020-12-22 02:40:37 (26.1 MB/s) - ‘image_example/banana-republic-store-austin-street-1000x666.jpg’ saved [161636/161636]\n",
            "\n",
            "--2020-12-22 02:40:37--  https://blog-content-2.thestorefront.com/mag/wp-content/uploads/2016/07/The-Street-Store-1-810x540.jpg\n",
            "Resolving blog-content-2.thestorefront.com (blog-content-2.thestorefront.com)... 13.249.32.79, 13.249.32.109, 13.249.32.69, ...\n",
            "Connecting to blog-content-2.thestorefront.com (blog-content-2.thestorefront.com)|13.249.32.79|:443... connected.\n",
            "HTTP request sent, awaiting response... 200 OK\n",
            "Length: 111645 (109K) [image/jpeg]\n",
            "Saving to: ‘image_example/The-Street-Store-1-810x540.jpg’\n",
            "\n",
            "The-Street-Store-1- 100%[===================>] 109.03K  --.-KB/s    in 0.004s  \n",
            "\n",
            "2020-12-22 02:40:37 (24.0 MB/s) - ‘image_example/The-Street-Store-1-810x540.jpg’ saved [111645/111645]\n",
            "\n"
          ],
          "name": "stdout"
        }
      ]
    },
    {
      "cell_type": "markdown",
      "metadata": {
        "id": "AO3ZrkIIqo9H"
      },
      "source": [
        "Install tools to enable us to download from Google Drive. Something like wget"
      ]
    },
    {
      "cell_type": "code",
      "metadata": {
        "colab": {
          "base_uri": "https://localhost:8080/"
        },
        "id": "6kzxOTNipRvc",
        "outputId": "a344c3f5-da67-4d16-cc5f-2c66dc7a592a"
      },
      "source": [
        "!pip install gdown"
      ],
      "execution_count": null,
      "outputs": [
        {
          "output_type": "stream",
          "text": [
            "Requirement already satisfied: gdown in /usr/local/lib/python3.6/dist-packages (3.6.4)\n",
            "Requirement already satisfied: six in /usr/local/lib/python3.6/dist-packages (from gdown) (1.15.0)\n",
            "Requirement already satisfied: tqdm in /usr/local/lib/python3.6/dist-packages (from gdown) (4.41.1)\n",
            "Requirement already satisfied: requests in /usr/local/lib/python3.6/dist-packages (from gdown) (2.23.0)\n",
            "Requirement already satisfied: urllib3!=1.25.0,!=1.25.1,<1.26,>=1.21.1 in /usr/local/lib/python3.6/dist-packages (from requests->gdown) (1.24.3)\n",
            "Requirement already satisfied: chardet<4,>=3.0.2 in /usr/local/lib/python3.6/dist-packages (from requests->gdown) (3.0.4)\n",
            "Requirement already satisfied: certifi>=2017.4.17 in /usr/local/lib/python3.6/dist-packages (from requests->gdown) (2020.12.5)\n",
            "Requirement already satisfied: idna<3,>=2.5 in /usr/local/lib/python3.6/dist-packages (from requests->gdown) (2.10)\n"
          ],
          "name": "stdout"
        }
      ]
    },
    {
      "cell_type": "markdown",
      "metadata": {
        "id": "LwAO1CwaqZPq"
      },
      "source": [
        "Download trained model from : https://drive.google.com/file/d/1Jk4eGD7crsqCCg9C9VjCLkMN3ze8kutZ/view"
      ]
    },
    {
      "cell_type": "code",
      "metadata": {
        "colab": {
          "base_uri": "https://localhost:8080/"
        },
        "id": "iBdjafXupWCj",
        "outputId": "7fc88795-9dd8-4637-ba25-abcd1657c787"
      },
      "source": [
        "!gdown --id 1Jk4eGD7crsqCCg9C9VjCLkMN3ze8kutZ"
      ],
      "execution_count": null,
      "outputs": [
        {
          "output_type": "stream",
          "text": [
            "Downloading...\n",
            "From: https://drive.google.com/uc?id=1Jk4eGD7crsqCCg9C9VjCLkMN3ze8kutZ\n",
            "To: /content/craft_mlt_25k.pth\n",
            "83.2MB [00:00, 228MB/s]\n"
          ],
          "name": "stdout"
        }
      ]
    },
    {
      "cell_type": "markdown",
      "metadata": {
        "id": "6rBg1GJQqguu"
      },
      "source": [
        "Test run. Results will be saved in the folder result."
      ]
    },
    {
      "cell_type": "code",
      "metadata": {
        "colab": {
          "base_uri": "https://localhost:8080/"
        },
        "id": "LgUFnDGrnptE",
        "outputId": "8d059542-a39c-4664-b9f1-35a1d2eb8732"
      },
      "source": [
        "!python CRAFT-pytorch/test.py --test_folder \"image_example/\" --trained_model \"craft_mlt_25k.pth\""
      ],
      "execution_count": null,
      "outputs": [
        {
          "output_type": "stream",
          "text": [
            "Loading weights from checkpoint (craft_mlt_25k.pth)\n",
            "elapsed time : 0.6033027172088623s\n"
          ],
          "name": "stdout"
        }
      ]
    }
  ]
}