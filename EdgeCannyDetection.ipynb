{
  "nbformat": 4,
  "nbformat_minor": 0,
  "metadata": {
    "colab": {
      "name": "EdgeCannyDetection.ipynb",
      "provenance": [],
      "collapsed_sections": []
    },
    "kernelspec": {
      "name": "python3",
      "display_name": "Python 3"
    }
  },
  "cells": [
    {
      "cell_type": "code",
      "metadata": {
        "id": "wEXHEI1xVxpL"
      },
      "source": [
        "# OpenCV program to perform Edge detection in real time \r\n",
        "import cv2  \r\n",
        "import numpy as np \r\n",
        "  \r\n",
        "  \r\n",
        "# capture frames from a camera \r\n",
        "cap = cv2.VideoCapture(0)   # see comment\r\n",
        "  \r\n",
        "  \r\n",
        "# loop runs if capturing has been initialized \r\n",
        "while(1): \r\n",
        "  \r\n",
        "    # reads frames from a camera \r\n",
        "    ret, frame = cap.read() \r\n",
        "  \r\n",
        "    # converting BGR to HSV \r\n",
        "    hsv = cv2.cvtColor(frame, cv2.COLOR_BGR2HSV) \r\n",
        "      \r\n",
        "    # define range of red color in HSV \r\n",
        "    lower_red = np.array([30,150,50]) \r\n",
        "    upper_red = np.array([255,255,180]) \r\n",
        "      \r\n",
        "    # create a red HSV colour boundary and  \r\n",
        "    # threshold HSV image \r\n",
        "    mask = cv2.inRange(hsv, lower_red, upper_red) \r\n",
        "  \r\n",
        "    # Bitwise-AND mask and original image \r\n",
        "    res = cv2.bitwise_and(frame,frame, mask= mask) \r\n",
        "  \r\n",
        "    # Display an original image \r\n",
        "    cv2.imshow('Original',frame) \r\n",
        "  \r\n",
        "    # finds edges in the input image image and \r\n",
        "    # marks them in the output map edges \r\n",
        "    edges = cv2.Canny(frame,100,200) \r\n",
        "  \r\n",
        "    # Display edges in a frame \r\n",
        "    cv2.imshow('Edges',edges) \r\n",
        "  \r\n",
        "    # Wait for Esc key to stop \r\n",
        "    k = cv2.waitKey(5) & 0xFF\r\n",
        "    if k == 27: \r\n",
        "        break\r\n",
        "  \r\n",
        "  \r\n",
        "# Close the window \r\n",
        "cap.release() \r\n",
        "  \r\n",
        "# De-allocate any associated memory usage \r\n",
        "cv2.destroyAllWindows() "
      ],
      "execution_count": null,
      "outputs": []
    },
    {
      "cell_type": "code",
      "metadata": {
        "id": "yoyV5BAXW1FD"
      },
      "source": [
        ""
      ],
      "execution_count": null,
      "outputs": []
    }
  ]
}